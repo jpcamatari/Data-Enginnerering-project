{
 "cells": [
  {
   "cell_type": "markdown",
   "id": "ba7079bf",
   "metadata": {},
   "source": [
    "### Instação das bibliotecas necessarias para execução do pipeline"
   ]
  },
  {
   "cell_type": "code",
   "execution_count": 36,
   "id": "cb00957f",
   "metadata": {},
   "outputs": [],
   "source": [
    "import pandas as pd\n",
    "from datetime import datetime\n",
    "import re\n",
    "import os"
   ]
  },
  {
   "cell_type": "markdown",
   "id": "4723483e",
   "metadata": {},
   "source": [
    "### Transformação na camada trusted da tabela de infestacao"
   ]
  },
  {
   "cell_type": "code",
   "execution_count": 37,
   "id": "8ed3f594",
   "metadata": {},
   "outputs": [
    {
     "name": "stdout",
     "output_type": "stream",
     "text": [
      "../sucoslake/raw/raw_infestacao.parquet\n"
     ]
    }
   ],
   "source": [
    "# Acesso ao diretorio dos dados raw\n",
    "\n",
    "#subir para a pasta raiz do projeto\n",
    "up_dir = \"../\"\n",
    "\n",
    "#acessar caminho do diretorio raw\n",
    "raw_dir =\"sucoslake/raw/\"\n",
    "\n",
    "#nome do arquivo que contem dos dados brutos\n",
    "file = \"raw_infestacao.parquet\"\n",
    "\n",
    "data_path = up_dir+raw_dir+file\n",
    "print(data_path)\n",
    "df = pd.read_parquet(data_path)"
   ]
  },
  {
   "cell_type": "code",
   "execution_count": 38,
   "id": "345395f5",
   "metadata": {
    "scrolled": true
   },
   "outputs": [],
   "source": [
    "# renomeação das colunas \n",
    "df = df.rename(columns={\n",
    "    \n",
    "    \"SAFRA\": \"ano_safra\",\n",
    "    \"Data\": \"dt_colheita\",\n",
    "    \"Fazenda\": \"nm_fazenda\",\n",
    "    \"Talhao\": \"cd_talhao\",\n",
    "    \"Localizacao\": \"cd_loc\",\n",
    "    \"TipoFruta\": \"ds_fruta\",\n",
    "    \"SinaisPragas\": \"ds_sinaisPraga\",\n",
    "    \"Infestação (%)\": \"pc_infestacao\",\n",
    "    \"ResponsavelCampo\": \"nm_resp_campo\"\n",
    "})"
   ]
  },
  {
   "cell_type": "markdown",
   "id": "82032870",
   "metadata": {},
   "source": [
    "#### Limpeza e tratamento das colunas"
   ]
  },
  {
   "cell_type": "code",
   "execution_count": 39,
   "id": "580bd0ca",
   "metadata": {},
   "outputs": [],
   "source": [
    "# Transformar ano de safra em anos validos\n",
    "\n",
    "#substitui valores invalidos e não numericos por null\n",
    "df['ano_safra'] = pd.to_numeric(df['ano_safra'], errors='coerce')\n",
    "\n",
    "#substitui valores null por 1900 e garante que o ano seja valido, ou seja, esteja dentro de um range de 1900-2100\n",
    "#intervalo assumido como premissa de ano valido por mim\n",
    "df['ano_safra'] = df['ano_safra'].fillna(1900)\n",
    "df.loc[(df['ano_safra'] < 1900) | (df['ano_safra'] > 2100), 'ano_safra'] = 1900"
   ]
  },
  {
   "cell_type": "code",
   "execution_count": 40,
   "id": "8de6bb20",
   "metadata": {},
   "outputs": [],
   "source": [
    "# Transformação do tipo de dados da coluna 'dt_colheita' para date\n",
    "\n",
    "df['dt_colheita'] = pd.to_datetime(df['dt_colheita'], format='%d/%m/%Y')"
   ]
  },
  {
   "cell_type": "code",
   "execution_count": 41,
   "id": "7e11fdf7",
   "metadata": {},
   "outputs": [],
   "source": [
    "# Transformar e limpar nome da fazenda\n",
    "\n",
    "#garantir que 'nm_fazenda' é string\n",
    "df['nm_fazenda'] = df['nm_fazenda'].astype(str)\n",
    "\n",
    "#remove caracteres especiais e deixa em uppercase\n",
    "df['nm_fazenda'] = df['nm_fazenda'].str.upper()\n",
    "df['nm_fazenda'] = df['nm_fazenda'].str.replace(r'[^A-Z0-9 ]', '', regex=True)"
   ]
  },
  {
   "cell_type": "code",
   "execution_count": 42,
   "id": "aea36122",
   "metadata": {},
   "outputs": [],
   "source": [
    "# Transformar 'cd_talhao' em numeros validos\n",
    "\n",
    "#substitui valores invalidos e não numericos por null\n",
    "df['cd_talhao'] = pd.to_numeric(df['cd_talhao'], errors='coerce')\n",
    "\n",
    "#tratar valores negativos\n",
    "df['cd_talhao'] = df['cd_talhao'].abs()"
   ]
  },
  {
   "cell_type": "code",
   "execution_count": 43,
   "id": "57a7ce7a",
   "metadata": {},
   "outputs": [],
   "source": [
    "# Transformar e limpar nome descrição da fruta\n",
    "\n",
    "#garantir que 'ds_fruta' é string\n",
    "df['ds_fruta'] = df['ds_fruta'].astype(str)\n",
    "\n",
    "#remove caracteres especiais e deixa em uppercase\n",
    "df['ds_fruta'] = df['ds_fruta'].str.upper()\n",
    "df['ds_fruta'] = df['ds_fruta'].str.replace(r'[^A-Z0-9 ]', '', regex=True)"
   ]
  },
  {
   "cell_type": "code",
   "execution_count": 44,
   "id": "2165e9cc",
   "metadata": {},
   "outputs": [],
   "source": [
    "# Transformar e limpar sinais de praga\n",
    "\n",
    "#garantir que 'ds_sinaisPraga' é string\n",
    "df['ds_sinaisPraga'] = df['ds_sinaisPraga'].astype(str)\n",
    "\n",
    "#remove caracteres especiais e deixa em uppercase\n",
    "df['ds_sinaisPraga'] = df['ds_sinaisPraga'].str.upper()\n",
    "df['ds_sinaisPraga'] = df['ds_sinaisPraga'].str.replace('-', ' ', regex=False)\n",
    "df['ds_sinaisPraga'] = df['ds_sinaisPraga'].str.replace(r'[^A-Z0-9 ]', '', regex=True)"
   ]
  },
  {
   "cell_type": "code",
   "execution_count": 45,
   "id": "90647764",
   "metadata": {},
   "outputs": [],
   "source": [
    "# Transformar 'pc_infestacao' em numeros validos\n",
    "\n",
    "#substitui valores invalidos e não numericos por null\n",
    "df['pc_infestacao'] = pd.to_numeric(df['pc_infestacao'], errors='coerce')\n",
    "\n",
    "#premissa de que se o numero for negativo houve algum problema na coleta de dados\n",
    "df['ano_safra'] = df['ano_safra'].fillna(-1)\n"
   ]
  },
  {
   "cell_type": "code",
   "execution_count": 46,
   "id": "a3ffcee1",
   "metadata": {},
   "outputs": [],
   "source": [
    "# Transformar e limpar nome do responsavel\n",
    "\n",
    "#garantir que 'ds_sinaisPraga' é string\n",
    "df['nm_resp_campo'] = df['nm_resp_campo'].astype(str)\n",
    "\n",
    "#remove caracteres especiais e deixa em uppercase\n",
    "df['nm_resp_campo'] = df['nm_resp_campo'].str.upper()"
   ]
  },
  {
   "cell_type": "code",
   "execution_count": 47,
   "id": "11d32b45",
   "metadata": {},
   "outputs": [],
   "source": [
    "df['dh_ingestao'] = pd.to_datetime(df['dh_ingestao'], format='%Y-%m-%d %H:%M:%S')"
   ]
  },
  {
   "cell_type": "code",
   "execution_count": 48,
   "id": "dee570ec",
   "metadata": {},
   "outputs": [],
   "source": [
    "# Inserir datahora de inserção da trusted\n",
    "\n",
    "df[\"dh_insercao_trs\"] = datetime.now().strftime(\"%Y-%m-%d %H:%M:%S\")\n"
   ]
  },
  {
   "cell_type": "code",
   "execution_count": 49,
   "id": "06dd82eb",
   "metadata": {
    "scrolled": true
   },
   "outputs": [
    {
     "name": "stdout",
     "output_type": "stream",
     "text": [
      "Insert: ../sucoslake/trusted/trusted_infestacao.parquet\n"
     ]
    }
   ],
   "source": [
    "# Acesso ao diretorio dos dados trusted\n",
    "\n",
    "#subir para a pasta raiz do projeto\n",
    "up_dir = \"../\"\n",
    "\n",
    "#acessar caminho do diretorio trusted\n",
    "raw_dir =\"sucoslake/trusted/\"\n",
    "\n",
    "#nome do arquivo que contem dos dados brutos\n",
    "file = \"trusted_infestacao.parquet\"\n",
    "\n",
    "#caminho completo\n",
    "data_path_trusted = up_dir+raw_dir+file\n",
    "\n",
    "if os.path.exists(data_path_trusted) is False: \n",
    "    df.to_parquet(data_path_trusted, engine=\"pyarrow\", compression=\"snappy\")\n",
    "    print(\"Charge Full\")\n",
    "    \n",
    "else:\n",
    "    df_existente = pd.read_parquet(data_path_trusted)\n",
    "    df_existente = df_existente.sort_values('dh_insercao_trs').groupby('ID', as_index=False).last()\n",
    "        \n",
    "    # Criar um flag de alteração comparando todos os campos exceto a chave\n",
    "    key = 'ID'\n",
    "    compare_cols = [\n",
    "    'ano_safra',\n",
    "    'dt_colheita',\n",
    "    'nm_fazenda',\n",
    "    'cd_talhao',\n",
    "    'cd_loc',\n",
    "    'ds_fruta',\n",
    "    'ds_sinaisPraga',\n",
    "    'pc_infestacao',\n",
    "    'nm_resp_campo'\n",
    "    ]\n",
    "\n",
    "    # Merge para detectar alterações\n",
    "    df_merged = df.merge(df_existente, on=key, how='left', suffixes=('_novo','_old'))\n",
    "    \n",
    "    # Verifica se algum campo mudou\n",
    "    mask_alterado = (df_merged[[f\"{c}_novo\" for c in compare_cols]] != df_merged[[f\"{c}_old\" for c in compare_cols]].values).any(axis=1)\n",
    "    \n",
    "    # Seleciona apenas os registros alterados\n",
    "    df_para_inserir = df[mask_alterado]\n",
    "        \n",
    "    # Adiciona os registros alterados ao histórico\n",
    "    df_final = pd.concat([df_existente, df_para_inserir], ignore_index=True)\n",
    "    \n",
    "    # Salvar arquivo parquet\n",
    "    df_final.to_parquet(data_path_trusted, engine=\"pyarrow\", compression=\"snappy\")\n",
    "    print(f\"Insert: {data_path_trusted}\")\n",
    "    df_final"
   ]
  }
 ],
 "metadata": {
  "kernelspec": {
   "display_name": "Python 3 (ipykernel)",
   "language": "python",
   "name": "python3"
  },
  "language_info": {
   "codemirror_mode": {
    "name": "ipython",
    "version": 3
   },
   "file_extension": ".py",
   "mimetype": "text/x-python",
   "name": "python",
   "nbconvert_exporter": "python",
   "pygments_lexer": "ipython3",
   "version": "3.9.12"
  }
 },
 "nbformat": 4,
 "nbformat_minor": 5
}
