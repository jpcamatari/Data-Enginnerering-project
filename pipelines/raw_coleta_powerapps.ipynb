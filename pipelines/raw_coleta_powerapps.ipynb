{
 "cells": [
  {
   "cell_type": "markdown",
   "id": "2c0ad502",
   "metadata": {},
   "source": [
    "### Instação das bibliotecas necessarias para execução do pipeline"
   ]
  },
  {
   "cell_type": "code",
   "execution_count": 1,
   "id": "5a468101",
   "metadata": {},
   "outputs": [],
   "source": [
    "import pandas as pd\n",
    "from datetime import datetime"
   ]
  },
  {
   "cell_type": "markdown",
   "id": "0e3d81ef",
   "metadata": {},
   "source": [
    "### Extração dos dados\n",
    "\n",
    "extrair os dados brutos do PowerApps"
   ]
  },
  {
   "cell_type": "code",
   "execution_count": 2,
   "id": "4e4847f8",
   "metadata": {},
   "outputs": [
    {
     "name": "stdout",
     "output_type": "stream",
     "text": [
      "../sucos/power_apps/APP coleta infestação.xlsx\n"
     ]
    }
   ],
   "source": [
    "# Acesso ao diretorio dos dados raw\n",
    "\n",
    "#subir para a pasta raiz do projeto\n",
    "up_dir = \"../\"\n",
    "\n",
    "#acessar caminho do diretorio raw\n",
    "raw_dir =\"sucos/power_apps/\"\n",
    "\n",
    "#nome do arquivo que contem dos dados brutos\n",
    "file = \"APP coleta infestação.xlsx\"\n",
    "\n",
    "data_path = up_dir+raw_dir+file\n",
    "print(data_path)\n"
   ]
  },
  {
   "cell_type": "code",
   "execution_count": 3,
   "id": "4cd5d8d9",
   "metadata": {},
   "outputs": [],
   "source": [
    "# Ler dados de inspetores de praga\n",
    "df = pd.read_excel(data_path)"
   ]
  },
  {
   "cell_type": "code",
   "execution_count": 4,
   "id": "e23c595b",
   "metadata": {},
   "outputs": [],
   "source": [
    "# Adicionando coluna de ingestão de dados\n",
    "\n",
    "df[\"dh_ingestao\"] = datetime.now().strftime(\"%Y-%m-%d %H:%M:%S\")"
   ]
  },
  {
   "cell_type": "markdown",
   "id": "c7135a99",
   "metadata": {},
   "source": [
    "# Load data\n",
    "\n",
    "Etapa realizada para inserir os dados brutos no datalake.\n",
    "\n",
    "Os dados são carregados brutos, sem qualquer tipo de transformação."
   ]
  },
  {
   "cell_type": "code",
   "execution_count": 5,
   "id": "fbb5af9b",
   "metadata": {},
   "outputs": [
    {
     "name": "stdout",
     "output_type": "stream",
     "text": [
      "../sucoslake/raw/raw_coleta_infestacao_powerapps.parquet\n"
     ]
    }
   ],
   "source": [
    "# Acesso ao datalake\n",
    "\n",
    "#subir para a pasta raiz do projeto\n",
    "up_dir = \"../\"\n",
    "\n",
    "#acessar caminho do diretorio raw\n",
    "datalake_dir =\"sucoslake/raw/\"\n",
    "\n",
    "#nome do arquivo que contem dos dados brutos\n",
    "file = \"raw_coleta_infestacao_powerapps.parquet\"\n",
    "\n",
    "lake_path = up_dir+datalake_dir+file\n",
    "print(lake_path)"
   ]
  },
  {
   "cell_type": "code",
   "execution_count": 6,
   "id": "5ce7ed61",
   "metadata": {},
   "outputs": [],
   "source": [
    "df.to_parquet(lake_path, engine=\"pyarrow\", compression=\"snappy\")"
   ]
  },
  {
   "cell_type": "code",
   "execution_count": 7,
   "id": "ab2ecca4",
   "metadata": {},
   "outputs": [
    {
     "data": {
      "text/html": [
       "<div>\n",
       "<style scoped>\n",
       "    .dataframe tbody tr th:only-of-type {\n",
       "        vertical-align: middle;\n",
       "    }\n",
       "\n",
       "    .dataframe tbody tr th {\n",
       "        vertical-align: top;\n",
       "    }\n",
       "\n",
       "    .dataframe thead th {\n",
       "        text-align: right;\n",
       "    }\n",
       "</style>\n",
       "<table border=\"1\" class=\"dataframe\">\n",
       "  <thead>\n",
       "    <tr style=\"text-align: right;\">\n",
       "      <th></th>\n",
       "      <th>ID</th>\n",
       "      <th>ano_safra</th>\n",
       "      <th>dt_colheita</th>\n",
       "      <th>nm_fazenda</th>\n",
       "      <th>cd_talhao</th>\n",
       "      <th>cd_loc</th>\n",
       "      <th>ds_fruta</th>\n",
       "      <th>ds_sinaisPraga</th>\n",
       "      <th>pc_infestacao</th>\n",
       "      <th>nm_resp_campo</th>\n",
       "      <th>dh_ingestao</th>\n",
       "    </tr>\n",
       "  </thead>\n",
       "  <tbody>\n",
       "    <tr>\n",
       "      <th>0</th>\n",
       "      <td>1</td>\n",
       "      <td>2025</td>\n",
       "      <td>45667</td>\n",
       "      <td>FAZENDA SOL</td>\n",
       "      <td>130</td>\n",
       "      <td>-22.058,-48.181</td>\n",
       "      <td>LARANJA</td>\n",
       "      <td>NENHUM</td>\n",
       "      <td>20</td>\n",
       "      <td>JOÃO SILVA</td>\n",
       "      <td>2025-09-07 20:21:56</td>\n",
       "    </tr>\n",
       "    <tr>\n",
       "      <th>1</th>\n",
       "      <td>2</td>\n",
       "      <td>2025</td>\n",
       "      <td>45741</td>\n",
       "      <td>FAZENDA LUA</td>\n",
       "      <td>204</td>\n",
       "      <td>-22.060,-48.185</td>\n",
       "      <td>MANGA</td>\n",
       "      <td>PULGÕES</td>\n",
       "      <td>55</td>\n",
       "      <td>MARIA SOUZA</td>\n",
       "      <td>2025-09-07 20:21:56</td>\n",
       "    </tr>\n",
       "    <tr>\n",
       "      <th>2</th>\n",
       "      <td>3</td>\n",
       "      <td>2025</td>\n",
       "      <td>45823</td>\n",
       "      <td>FAZENDA ESTRELA</td>\n",
       "      <td>58</td>\n",
       "      <td>-22.062,-48.190</td>\n",
       "      <td>ABACAXI</td>\n",
       "      <td>MOSCA-DA-FRUTA</td>\n",
       "      <td>75</td>\n",
       "      <td>CARLOS LIMA</td>\n",
       "      <td>2025-09-07 20:21:56</td>\n",
       "    </tr>\n",
       "    <tr>\n",
       "      <th>3</th>\n",
       "      <td>4</td>\n",
       "      <td>2025</td>\n",
       "      <td>45874</td>\n",
       "      <td>FAZENDA SOL</td>\n",
       "      <td>120</td>\n",
       "      <td>-22.058,-48.181</td>\n",
       "      <td>LARANJA</td>\n",
       "      <td>NENHUM</td>\n",
       "      <td>10</td>\n",
       "      <td>JOÃO SILVA</td>\n",
       "      <td>2025-09-07 20:21:56</td>\n",
       "    </tr>\n",
       "    <tr>\n",
       "      <th>4</th>\n",
       "      <td>5</td>\n",
       "      <td>2025</td>\n",
       "      <td>45948</td>\n",
       "      <td>FAZENDA LUA</td>\n",
       "      <td>140</td>\n",
       "      <td>-22.060,-48.185</td>\n",
       "      <td>MANGA</td>\n",
       "      <td>PULGÕES</td>\n",
       "      <td>40</td>\n",
       "      <td>MARIA SOUZA</td>\n",
       "      <td>2025-09-07 20:21:56</td>\n",
       "    </tr>\n",
       "  </tbody>\n",
       "</table>\n",
       "</div>"
      ],
      "text/plain": [
       "   ID  ano_safra  dt_colheita       nm_fazenda  cd_talhao           cd_loc  \\\n",
       "0   1       2025        45667      FAZENDA SOL        130  -22.058,-48.181   \n",
       "1   2       2025        45741      FAZENDA LUA        204  -22.060,-48.185   \n",
       "2   3       2025        45823  FAZENDA ESTRELA         58  -22.062,-48.190   \n",
       "3   4       2025        45874      FAZENDA SOL        120  -22.058,-48.181   \n",
       "4   5       2025        45948      FAZENDA LUA        140  -22.060,-48.185   \n",
       "\n",
       "  ds_fruta  ds_sinaisPraga  pc_infestacao nm_resp_campo          dh_ingestao  \n",
       "0  LARANJA          NENHUM             20    JOÃO SILVA  2025-09-07 20:21:56  \n",
       "1    MANGA         PULGÕES             55   MARIA SOUZA  2025-09-07 20:21:56  \n",
       "2  ABACAXI  MOSCA-DA-FRUTA             75   CARLOS LIMA  2025-09-07 20:21:56  \n",
       "3  LARANJA          NENHUM             10    JOÃO SILVA  2025-09-07 20:21:56  \n",
       "4    MANGA         PULGÕES             40   MARIA SOUZA  2025-09-07 20:21:56  "
      ]
     },
     "execution_count": 7,
     "metadata": {},
     "output_type": "execute_result"
    }
   ],
   "source": [
    "df"
   ]
  }
 ],
 "metadata": {
  "kernelspec": {
   "display_name": "Python 3 (ipykernel)",
   "language": "python",
   "name": "python3"
  },
  "language_info": {
   "codemirror_mode": {
    "name": "ipython",
    "version": 3
   },
   "file_extension": ".py",
   "mimetype": "text/x-python",
   "name": "python",
   "nbconvert_exporter": "python",
   "pygments_lexer": "ipython3",
   "version": "3.9.12"
  }
 },
 "nbformat": 4,
 "nbformat_minor": 5
}
